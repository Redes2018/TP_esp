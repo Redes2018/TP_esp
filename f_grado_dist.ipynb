{
 "cells": [
  {
   "cell_type": "code",
   "execution_count": 2,
   "metadata": {},
   "outputs": [],
   "source": [
    "import numpy as np\n",
    "import matplotlib.pyplot as plt\n",
    "from matplotlib import cm\n",
    "import pandas as pd\n",
    "import networkx as nx\n",
    "import music21 as msc\n",
    "from funciones import *\n",
    "\n",
    "env = msc.environment.UserSettings()\n",
    "#env['musicxmlPath'] = r'C:\\Program Files (x86)\\Finale NotePad 2012\\Finale NotePad.exe' #Path a la aplicacion Finale\n",
    "#env['musicxmlPath'] = r'C:\\Program Files (x86)\\MuseScore 2\\bin\\MuseScore.exe'          #Path a la aplicacion MuseScore \n",
    "#env['musicxmlPath']='/usr/bin/mscore'\n",
    "msc.environment.set('musescoreDirectPNGPath', 'C:\\\\Program Files (x86)\\\\MuseScore 2\\\\bin\\\\MuseScore.exe')\n",
    "msc.environment.set('musicxmlPath', 'C:\\\\Program Files (x86)\\\\MuseScore 2\\\\bin\\\\MuseScore.exe')\n"
   ]
  },
  {
   "cell_type": "code",
   "execution_count": 3,
   "metadata": {},
   "outputs": [
    {
     "name": "stdout",
     "output_type": "stream",
     "text": [
      "Parte seleccionada: Bass Guitar\n"
     ]
    }
   ],
   "source": [
    "#Importo un xml de prueba\n",
    "\n",
    "#G=f_xml2graph(r'.\\\\partituras\\\\Queen_-_Bohemian_Rhapsody.mxl')\n",
    "#G=f_xml2graph(r'.\\\\partituras\\\\Here_Comes_The_Sun_-_The_Beatles.mscz.mxl')\n",
    "#G=f_xml2graph(r'.\\\\partituras\\\\Mozart__Rondo_Ala_Turca.mxl')\n",
    "#G=f_xml2graph(r'.\\\\partituras\\\\Chopin_-_Nocturne_Op_9_No_2_E_Flat_Major.mxl')\n",
    "#G=f_xml2graph(r'.\\\\partituras\\\\Bach_Toccata_and_Fugue_in_D_Minor_Piano_solo.mxl')\n",
    "#G=f_xml2graph(r'.\\\\partituras\\\\bachcelloprelude.mxl')\n",
    "G=f_xml2graph(r'.\\\\partituras\\\\queen_underpressure.mxl', 'Bass Guitar')\n",
    "\n",
    "\n",
    "#song = msc.converter.parse(r'.\\\\partituras\\\\13725_ice_ice_baby.mxl') # Lee la cancion, queda un elemento stream.Score\n",
    "\n",
    "#Lp = len(song.parts) # Cantidad de partes (voces)\n",
    "#lista_partes = list(np.zeros(Lp)) # Crea una lista donde se van a guardas los nombres de las partes\n",
    "\n",
    "#for i,elem in enumerate(song.parts):\n",
    "#        lista_partes[i] = elem.partName\n",
    "\n",
    "                \n",
    "#G=f_xml2graph(r'.\\\\partituras\\\\13725_ice_ice_baby.mxl', lista_partes[1])\n",
    "\n",
    "\n",
    "#--------------------------------------------------\n",
    "#Canción de prueba\n",
    "\n",
    "#sBach = msc.corpus.parse('bach/bwv57.8')\n",
    "#sBach.show()"
   ]
  },
  {
   "cell_type": "code",
   "execution_count": null,
   "metadata": {},
   "outputs": [],
   "source": [
    "f_grado_dist_M(G)\n",
    "f_grado_dist_H(G)\n",
    "f_tabla(G,'artista')"
   ]
  },
  {
   "cell_type": "code",
   "execution_count": null,
   "metadata": {},
   "outputs": [],
   "source": []
  },
  {
   "cell_type": "code",
   "execution_count": null,
   "metadata": {},
   "outputs": [],
   "source": []
  },
  {
   "cell_type": "code",
   "execution_count": null,
   "metadata": {},
   "outputs": [],
   "source": []
  },
  {
   "cell_type": "code",
   "execution_count": null,
   "metadata": {},
   "outputs": [],
   "source": []
  },
  {
   "cell_type": "code",
   "execution_count": null,
   "metadata": {},
   "outputs": [],
   "source": []
  },
  {
   "cell_type": "code",
   "execution_count": null,
   "metadata": {},
   "outputs": [],
   "source": []
  },
  {
   "cell_type": "code",
   "execution_count": null,
   "metadata": {},
   "outputs": [],
   "source": []
  },
  {
   "cell_type": "code",
   "execution_count": null,
   "metadata": {},
   "outputs": [],
   "source": []
  }
 ],
 "metadata": {
  "kernelspec": {
   "display_name": "Python 3",
   "language": "python",
   "name": "python3"
  },
  "language_info": {
   "codemirror_mode": {
    "name": "ipython",
    "version": 3
   },
   "file_extension": ".py",
   "mimetype": "text/x-python",
   "name": "python",
   "nbconvert_exporter": "python",
   "pygments_lexer": "ipython3",
   "version": "3.6.5"
  }
 },
 "nbformat": 4,
 "nbformat_minor": 2
}
