{
 "cells": [
  {
   "cell_type": "code",
   "execution_count": 1,
   "metadata": {
    "collapsed": true
   },
   "outputs": [],
   "source": [
    "import numpy as np\n",
    "import matplotlib.pyplot as plt\n",
    "from matplotlib import cm\n",
    "import pandas as pd\n",
    "import networkx as nx\n",
    "import music21 as msc\n",
    "from funciones import *\n",
    "import sys\n",
    "import os\n",
    "from music21 import corpus\n",
    "import random \n",
    "import pyknon\n",
    "from pyknon.genmidi import Midi\n",
    "from pyknon.music import NoteSeq\n",
    "\n",
    "\n",
    "env = msc.environment.UserSettings()\n",
    "#env['musicxmlPath'] = r'C:\\Program Files (x86)\\Finale NotePad 2012\\Finale NotePad.exe' #Path a la aplicacion Finale\n",
    "#env['musicxmlPath'] = r'C:\\Program Files (x86)\\MuseScore 2\\bin\\MuseScore.exe'          #Path a la aplicacion MuseScore \n",
    "#env['musicxmlPath']='/usr/bin/mscore'\n",
    "msc.environment.set('musescoreDirectPNGPath', 'C:\\\\Program Files (x86)\\\\MuseScore 2\\\\bin\\\\MuseScore.exe')\n",
    "msc.environment.set('musicxmlPath', 'C:\\\\Program Files (x86)\\\\MuseScore 2\\\\bin\\\\MuseScore.exe')\n",
    "\n",
    "#---------------------------------------------------------------------------------------------------------\n",
    "#            FUNCIONES PARA ANALISIS DE MUSICA:\n",
    "#---------------------------------------------------------------------------------------------------------\n",
    "#Lista de funciones:\n",
    "# f_xml2graph (cancion, nombre_parte=0,modelo='melodia')\n",
    "# graficar (G, color_map='rainbow',layout='espiral', labels=False)\n",
    "# ql_2_fig (ql)\n",
    "# f_motifs_rhytmic (cancion,length,nombre_parte=0)\n",
    "# f_motifs_tonal (cancion,length,nombre_parte=0)\n",
    "# f_grado_dist_M (G)\n",
    "# f_grado_dist_R (G)\n",
    "# f_tabla (G,nombre)\n",
    "# f_xml2graph_armonia (cancion, index)\n",
    "# f_armon (cancion, indexes)\n",
    "# graficar_armonias_undirected(G, color_map='rainbow',layout='espiral')\n",
    "# graficar_armonias_directed(Armonias)\n",
    "# f_dist_escalas (cancion, nombre_parte=0)\n",
    "# f_full_graph(path)\n",
    "# f_hierarchy(G)\n",
    "# f_rewiring_directed(G)\n",
    "# transitivity_motifs(G)\n",
    "\n",
    "#-------------------"
   ]
  },
  {
   "cell_type": "code",
   "execution_count": 2,
   "metadata": {
    "collapsed": true
   },
   "outputs": [],
   "source": [
    "\n",
    "musicos_1=['mozart'] #son los más conocidos y que más biblio tienen \n",
    "\n",
    "for l, musico in enumerate(musicos_1):\n",
    "    paths = corpus.getComposer(musico)\n",
    "    paths=paths[0:20] #corta hasta los primeros 20 temas\n",
    "    song = msc.converter.parse(paths[1])\n",
    "    L=len(song.parts) #recorro todas las voces\n",
    "    voces=song.parts #quiero que grafique todas las voces\n",
    "    indexes=list(range(len(voces)))\n",
    "    \n",
    "    M=f_xml2graph(paths[1], nombre_parte='piano', modelo='melodia'); #obtengo el grafo\n",
    "    \n",
    "    Armonias_song,Tiempos_armonias_song,D,G=f_armon(paths[1], indexes)\n",
    "        \n"
   ]
  },
  {
   "cell_type": "code",
   "execution_count": 15,
   "metadata": {},
   "outputs": [
    {
     "data": {
      "text/plain": [
       "'E5/1.0 E5/0.25 D5/0.25 C#5/0.125 D5/0.5 C#5/0.5 F#5/0.5 E#5/0.5 F#5/0.25 E#5/0.25 F#5/0.25 E#5/0.25 F#5/0.25 G#5/0.25 A5/0.25 F#5/0.5 E5/0.5 D5/0.5 C#5/0.5 C#5/1.0 D5/0.25 C#5/0.25 B4/0.5 B4/1.0 B4/0.25 C#5/0.25 D5/0.25 E5/0.25 F#5/0.25 F#5/2.0 E5/0.5 E5/0.5 F#5/0.5 rest C#5/0.5 F#5/0.5 E5/0.5 D5/0.5 D5/0.25 E5/0.25 F#5/0.25'"
      ]
     },
     "execution_count": 15,
     "metadata": {},
     "output_type": "execute_result"
    }
   ],
   "source": [
    "ls=random_walk_1_M(M,40)\n",
    "ls_pyk= \" \".join(str(x) for x in ls)\n",
    "ls_pyk"
   ]
  },
  {
   "cell_type": "code",
   "execution_count": 16,
   "metadata": {
    "collapsed": true
   },
   "outputs": [],
   "source": [
    "notes1 = NoteSeq(ls_pyk)\n",
    "midi = Midi(1, tempo=90)\n",
    "midi.seq_notes(notes1, track=0)\n",
    "midi.write(\"demo.mid\")"
   ]
  },
  {
   "cell_type": "code",
   "execution_count": null,
   "metadata": {
    "collapsed": true
   },
   "outputs": [],
   "source": [
    "# Sino, sin usar pyknon, podemos usar nuestra propia funcion para armar la canción, incluyendo el ritmo\n",
    "# Guarda los archivos xml y midi\n",
    "f_list2seq(ls,'prueba3') # pasarle la lista original que sale de la random walk"
   ]
  },
  {
   "cell_type": "code",
   "execution_count": 5,
   "metadata": {
    "collapsed": true
   },
   "outputs": [],
   "source": [
    "#toma un grafo y la cantidad de los nuevos nodos. Devuelve una lista random con las notas\n",
    "def random_walk_1_M(G,k):\n",
    "    #creo un dict que tiene la voz como .key y la lista de notas como .value\n",
    "    ls = []\n",
    "    nodos=list(G.nodes())\n",
    "    #Me armo un dict, con el key del nombre del nodo y una lista\n",
    "    weights={} \n",
    "    \n",
    "    M=nx.to_numpy_matrix(G) #obtenemos la matriz de adyacencia no esparsa\n",
    "    L=M.shape[1]\n",
    "    #normalizamos\n",
    "    for i, nodo in enumerate(nodos):\n",
    "        if (np.sum(M[i]) > 0):\n",
    "            M[i] = M[i]/np.sum(M[i])\n",
    "        #los pesos de salto son los valores de las filas normalizadas.\n",
    "        #paso M[i] a una lista, le hago .tolist()[0] asi no me grafica extra corchetes\n",
    "        weights.update({str(nodo): M[i].tolist()[0]})  \n",
    "\n",
    "    #Hago la caminata\n",
    "    #Me paro en algun nodo inicial random\n",
    "    nodo_i=random.choice(nodos)\n",
    "    for i in range(k):\n",
    "        if i == 0: #para el primer paso\n",
    "            ls.append(nodo_i)\n",
    "            #Para ese nodo inicial veo que elementro de matriz le corresponde\n",
    "            #se podria hacer dos random walks, una con los pesos acumulados (cum_weights) y otras sin.\n",
    "            #la lista tiene que ser los nodos \n",
    "            nodo_ran=random.choices(nodos, weights[nodo_i],k=1)#estoy teniendo problemas con este m\n",
    "            #weights[str(nodo_i)] me da lista de primeros vecinos\n",
    "            ls.append(nodo_ran[0]) #agrego el que haya salido. Le pongo [0] xq random.choices me devuelve una lista\n",
    "        else:\n",
    "            #veo los vecinos del nuevo nodo\n",
    "            nodo_ran=random.choices(nodos, weights[nodo_ran[0]],k=1)\n",
    "            ls.append(nodo_ran[0]) #agrego el que haya salido\n",
    "        \n",
    "    return(ls)"
   ]
  },
  {
   "cell_type": "code",
   "execution_count": null,
   "metadata": {
    "collapsed": true
   },
   "outputs": [],
   "source": [
    "#toma un grafo 3D y cantidad de voces. Para cada voz va a hacer una random walk por #cada uno de dichos nodos\n",
    "#devuelve 'voces' cantidad de listas de los nodos que fue tomando\n",
    "def f_rndm_walk(G, voces):\n",
    "    #creo un dict que tiene la voz como .key y la lista de notas como .value\n",
    "    ls = {}\n",
    "    enlaces=[]\n",
    "    nodos=[]\n",
    "    for i,voz in enumerate(voces):\n",
    "        ls[str(voz)] = []\n",
    "\n",
    "    #tendriamos que hacerlo empezando de la voz principal \n",
    "    #y cada vez q  toque algun nodo que tiene un enlace no dirigido abrir una rama para ese layer\n",
    "    for i, layer in enumerate(G):\n",
    "        enlaces.append(layer.edges()) \n",
    "        nodos.append(layer.nodes())\n",
    "    \n",
    "    \n",
    "    for j, layer in enumerate(G):\n",
    "        M = nx.adjacency_matrix(layer) #obtenemos la matriz de adyacencia\n",
    "        #normalizamos\n",
    "        for i in range(M.shape[1]):\n",
    "            if (np.sum(M[i]) > 0):\n",
    "                M[i] = M[i]/np.sum(M[i])\n",
    "        restart_prob=M.min()\n",
    "\n",
    "        #weights=[] hay que averiguar sobre como son las matrices de adj para multigraphs y layers\n",
    "\n",
    "\n",
    "        for i, nodo in enumerate(nodos[j]):\n",
    "            p=random.random()\n",
    "        #Aca revisamos si todos los enlaces son dirigidos que siga el algoritmo. Si no que agregue otra caminata de borracho\n",
    "        #para el otro layer\n",
    "            if len(layer.in_edges(nodo))>0 or len(layer.out_edges(nodo))>0 and len(layer.edges(nodo))==0:\n",
    "                if p < restart_prob:\n",
    "                    #do restart\n",
    "                    break\n",
    "\n",
    "                else:\n",
    "                    #choose next node    \n",
    "                    #se podria hacer dos random walks, una con los pesos acumulados (cum_weights) y otras sin. \n",
    "                    nodo_ran=random.choices(nodos[j], weights=[], cum_weights=None, k=1)\n",
    "                    ls[str(layer)].append(nodo_ran)\n",
    "\n",
    "\n",
    "            if len(G.edges(nodo))>0: #si se encuentra con un no dirigido \n",
    "                if p < restart_prob:\n",
    "                    #do restart\n",
    "                    break\n",
    "                else:\n",
    "                    #toma el nodo del otro layer al que está conectado y empieza una random walk para ese layer   \n",
    "                    ls[str(layer)].append(nodo)\n",
    "                    for i, nodo in enumerate(layer):\n",
    "                    #Aca revisamos si todos los enlaces son dirigidos que siga el algoritmo. Si no que agregue otra caminata de borracho\n",
    "                    #para el otro layer\n",
    "                        if len(layer.in_edges(nodo))>0 or len(layer.in_edges(nodo))>0 and len(layer.edges(nodo))==0:\n",
    "                            if p < restart_prob:\n",
    "                                #do restart\n",
    "\n",
    "                            else:\n",
    "                                #choose next node    \n",
    "                                #se podria hacer dos random walks, una con los pesos acumulados (cum_weights) y otras sin. \n",
    "                                nodo_ran=random.choices(nodos, weights=[], cum_weights=None, k=1)\n",
    "                                ls[str(voz)].append(nodo_ran)\n",
    "\n",
    "    return(ls)\n"
   ]
  },
  {
   "cell_type": "code",
   "execution_count": null,
   "metadata": {
    "collapsed": true
   },
   "outputs": [],
   "source": []
  },
  {
   "cell_type": "code",
   "execution_count": null,
   "metadata": {
    "collapsed": true
   },
   "outputs": [],
   "source": []
  },
  {
   "cell_type": "code",
   "execution_count": null,
   "metadata": {
    "collapsed": true
   },
   "outputs": [],
   "source": []
  }
 ],
 "metadata": {
  "kernelspec": {
   "display_name": "Python 3",
   "language": "python",
   "name": "python3"
  },
  "language_info": {
   "codemirror_mode": {
    "name": "ipython",
    "version": 3
   },
   "file_extension": ".py",
   "mimetype": "text/x-python",
   "name": "python",
   "nbconvert_exporter": "python",
   "pygments_lexer": "ipython3",
   "version": "3.6.3"
  }
 },
 "nbformat": 4,
 "nbformat_minor": 2
}
