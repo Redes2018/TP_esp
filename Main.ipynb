{
 "cells": [
  {
   "cell_type": "code",
   "execution_count": 2,
   "metadata": {},
   "outputs": [],
   "source": [
    "import numpy as np\n",
    "import matplotlib.pyplot as plt\n",
    "from matplotlib import cm\n",
    "import pandas as pd\n",
    "import networkx as nx\n",
    "import music21 as msc\n",
    "from funciones import *\n",
    "\n",
    "env = msc.environment.UserSettings()\n",
    "#env['musicxmlPath'] = r'C:\\Program Files (x86)\\Finale NotePad 2012\\Finale NotePad.exe' #Path a la aplicacion Finale\n",
    "#env['musicxmlPath'] = r'C:\\Program Files (x86)\\MuseScore 2\\bin\\MuseScore.exe'          #Path a la aplicacion MuseScore \n",
    "#env['musicxmlPath']='/usr/bin/mscore'\n",
    "msc.environment.set('musescoreDirectPNGPath', 'C:\\\\Program Files (x86)\\\\MuseScore 2\\\\bin\\\\MuseScore.exe')\n",
    "msc.environment.set('musicxmlPath', 'C:\\\\Program Files (x86)\\\\MuseScore 2\\\\bin\\\\MuseScore.exe')\n"
   ]
  },
  {
   "cell_type": "code",
   "execution_count": 5,
   "metadata": {},
   "outputs": [],
   "source": [
    "#---------------------------------------------------------------------\n",
    "#Funciones:\n",
    "\n",
    "#f_xml2graph(cancion, nombre_parte=None, modelo='melodia') modelo tambien puede ser 'ritmo'\n",
    "#graficar (G, color_map='rainbow', layout='espiral') el layout puede ser 'circular' tambien\n",
    "#f_motifs_rhytmic(cancion,length,nombre_parte=None)\n",
    "#f_grado_dist_M(G)\n",
    "#f_grado_dist_H(G)\n",
    "#f_tabla(G,'artista')\n",
    "\n",
    "#---------------------------------------------------------------------\n",
    "#Cancion que se van a usar:\n",
    "\n",
    "#G=f_xml2graph(r'.\\\\partituras\\\\Mozart__Rondo_Ala_Turca.mxl')\n",
    "#G=f_xml2graph(r'.\\\\partituras\\\\Chopin_-_Nocturne_Op_9_No_2_E_Flat_Major.mxl')\n",
    "#G=f_xml2graph(r'.\\\\partituras\\\\Bach_Toccata_and_Fugue_in_D_Minor_Piano_solo.mxl')\n",
    "#G=f_xml2graph(r'.\\\\partituras\\\\bachcelloprelude.mxl')\n",
    "#G=f_xml2graph(r'.\\\\partituras\\\\queen_underpressure.mxl', 'Bass Guitar')\n",
    "\n",
    "#--------------------------------------------------\n",
    "#Para seleccionar alguna voz en particular de la cancion:\n",
    "\n",
    "#song = msc.converter.parse(r'.\\\\partituras\\\\13725_ice_ice_baby.mxl') # Lee la cancion, queda un elemento stream.Score\n",
    "\n",
    "#Lp = len(song.parts) # Cantidad de partes (voces)\n",
    "#lista_partes = list(np.zeros(Lp)) # Crea una lista donde se van a guardas los nombres de las partes\n",
    "\n",
    "#for i,elem in enumerate(song.parts):\n",
    "#        lista_partes[i] = elem.partName\n",
    "\n",
    "                \n",
    "#G=f_xml2graph(r'.\\\\partituras\\\\13725_ice_ice_baby.mxl', lista_partes[1])"
   ]
  },
  {
   "cell_type": "code",
   "execution_count": 7,
   "metadata": {},
   "outputs": [
    {
     "name": "stdout",
     "output_type": "stream",
     "text": [
      "Parte seleccionada: Piano\n",
      "Parte seleccionada: Piano\n",
      "Parte seleccionada: Piano\n",
      "Parte seleccionada: Violonchelo, Solo Cello\n",
      "Parte seleccionada: Clean Guitar 1\n"
     ]
    }
   ],
   "source": [
    "#---------------------------------------------------------------------\n",
    "#Tomamos esas obras y vamos a ver solamente sus primeras voces\n",
    "#Lo hacemos para la parte melódica y rítmica\n",
    "\n",
    "grafos_m = []\n",
    "grafos_r = []\n",
    "archivos = ['Mozart__Rondo_Ala_Turca', 'Chopin_-_Nocturne_Op_9_No_2_E_Flat_Major', 'Bach_Toccata_and_Fugue_in_D_Minor_Piano_solo',\n",
    "           'bachcelloprelude', 'queen_underpressure']\n",
    "\n",
    "for j,arc in enumerate(archivos):\n",
    "    grafos_m = f_xml2graph(r'.\\\\partituras\\\\'+arc+'.mxl',modelo='melodia')\n",
    "    grafos_r = f_xml2graph(r'.\\\\partituras\\\\'+arc+'.mxl',modelo='ritmo')\n",
    "    \n",
    "#definimos una capeta personal para guardar la información\n",
    "#outfolder ='C:/Users/Lucio/Desktop/FACULTAD/Redes/datos/'"
   ]
  },
  {
   "cell_type": "code",
   "execution_count": null,
   "metadata": {},
   "outputs": [],
   "source": [
    "#---------------------------------------------------------------------\n",
    "#Graficamos ambos grafos para cada cancion\n",
    "\n",
    "N=len(grafos)\n",
    "for i in range(0,N):\n",
    "    graficar(grafos_m[i])\n",
    "    #plt.savefig(outfolder+archivos[i]+'_grafico_M.png')\n",
    "    graficar(grafos_r[i])\n",
    "    #plt.savefig(outfolder+archivos[i]+'_grafico_R.png')\n"
   ]
  },
  {
   "cell_type": "code",
   "execution_count": null,
   "metadata": {},
   "outputs": [],
   "source": [
    "#---------------------------------------------------------------------\n",
    "#Graficamos sus distribuciones de grados y creamos una tabla (son 2 por cada cancion en melodia y 1 por rítmica)\n",
    "#Para tener una muestra se recomienda usar a Bach (grafos_m[2]) y mozart (grafos_m[0])\n",
    "\n",
    "for i in range(0,N):\n",
    "    f_grado_dist_M(grafos_m[i])\n",
    "    #plt.savefig(outfolder+archivos[i]+'_distrib_M.png')\n",
    "    output=f_tabla(grafos_m[i],archivos[i])\n",
    "    #df= pd.DataFrame()\n",
    "    #df['Date'] = output.keys()\n",
    "    #df['DateValue'] = output.values()\n",
    "    #df.to_csv(outfolder+ archivos[i]+'_data_M.txt',sep='\\t')\n",
    "    \n",
    "for i in range(0,N):\n",
    "    f_grado_dist_H(grafos_r[i])\n",
    "    #plt.savefig(outfolder+archivos[i]+'_distrib_R.png')\n",
    "    output=f_tabla(grafos_r[i],archivos[i])\n",
    "    #df= pd.DataFrame()\n",
    "    #df['Date'] = output.keys()\n",
    "    #df['DateValue'] = output.values()\n",
    "    #df.to_csv(outfolder+ archivos[i]+'_data_R.txt',sep='\\t')"
   ]
  },
  {
   "cell_type": "code",
   "execution_count": null,
   "metadata": {},
   "outputs": [],
   "source": []
  },
  {
   "cell_type": "code",
   "execution_count": null,
   "metadata": {},
   "outputs": [],
   "source": []
  },
  {
   "cell_type": "code",
   "execution_count": null,
   "metadata": {},
   "outputs": [],
   "source": []
  },
  {
   "cell_type": "code",
   "execution_count": null,
   "metadata": {},
   "outputs": [],
   "source": []
  },
  {
   "cell_type": "code",
   "execution_count": null,
   "metadata": {},
   "outputs": [],
   "source": []
  },
  {
   "cell_type": "code",
   "execution_count": null,
   "metadata": {},
   "outputs": [],
   "source": []
  }
 ],
 "metadata": {
  "kernelspec": {
   "display_name": "Python 3",
   "language": "python",
   "name": "python3"
  },
  "language_info": {
   "codemirror_mode": {
    "name": "ipython",
    "version": 3
   },
   "file_extension": ".py",
   "mimetype": "text/x-python",
   "name": "python",
   "nbconvert_exporter": "python",
   "pygments_lexer": "ipython3",
   "version": "3.6.5"
  }
 },
 "nbformat": 4,
 "nbformat_minor": 2
}
